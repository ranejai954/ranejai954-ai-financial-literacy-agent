{"metadata": {"kernelspec": {"name": "python3", "display_name": "Python 3.11", "language": "python"}, "language_info": {"name": "python", "version": "3.11.13", "mimetype": "text/x-python", "codemirror_mode": {"name": "ipython", "version": 3}, "pygments_lexer": "ipython3", "nbconvert_exporter": "python", "file_extension": ".py"}}, "nbformat_minor": 4, "nbformat": 4, "cells": [{"cell_type": "markdown", "source": "# AI Agent for Digital Financial Literacy  \nDeveloped on IBM Cloud using Watsonx.ai and IBM Granite", "metadata": {"id": "20c88d2e-01ad-4072-95c8-a773bec27829"}}, {"cell_type": "code", "source": "!pip install requests beautifulsoup4 --quiet", "metadata": {"id": "300d8573-7cc3-45be-ada6-6a6e03a189c0"}, "outputs": [], "execution_count": 79}, {"cell_type": "code", "source": "!pip install wikipedia", "metadata": {"id": "589dde83-01dc-471b-a308-8890a1c6b060"}, "outputs": [{"name": "stdout", "text": "Requirement already satisfied: wikipedia in /opt/conda/envs/Python-RT24.1/lib/python3.11/site-packages (1.4.0)\nRequirement already satisfied: beautifulsoup4 in /opt/conda/envs/Python-RT24.1/lib/python3.11/site-packages (from wikipedia) (4.12.3)\nRequirement already satisfied: requests<3.0.0,>=2.0.0 in /opt/conda/envs/Python-RT24.1/lib/python3.11/site-packages (from wikipedia) (2.32.4)\nRequirement already satisfied: charset_normalizer<4,>=2 in /opt/conda/envs/Python-RT24.1/lib/python3.11/site-packages (from requests<3.0.0,>=2.0.0->wikipedia) (2.0.4)\nRequirement already satisfied: idna<4,>=2.5 in /opt/conda/envs/Python-RT24.1/lib/python3.11/site-packages (from requests<3.0.0,>=2.0.0->wikipedia) (3.7)\nRequirement already satisfied: urllib3<3,>=1.21.1 in /opt/conda/envs/Python-RT24.1/lib/python3.11/site-packages (from requests<3.0.0,>=2.0.0->wikipedia) (1.26.19)\nRequirement already satisfied: certifi>=2017.4.17 in /opt/conda/envs/Python-RT24.1/lib/python3.11/site-packages (from requests<3.0.0,>=2.0.0->wikipedia) (2025.6.15)\nRequirement already satisfied: soupsieve>1.2 in /opt/conda/envs/Python-RT24.1/lib/python3.11/site-packages (from beautifulsoup4->wikipedia) (2.5)\n", "output_type": "stream"}], "execution_count": 80}, {"cell_type": "code", "source": "from sklearn.feature_extraction.text import TfidfVectorizer\nfrom sklearn.metrics.pairwise import cosine_similarity", "metadata": {"id": "cf30b64c-1d5f-4a1b-849a-001f73121fad"}, "outputs": [], "execution_count": 81}, {"cell_type": "code", "source": "import requests\nfrom bs4 import BeautifulSoup", "metadata": {"id": "db59f619-55cf-4762-9b15-0479c5d21fc8"}, "outputs": [], "execution_count": 82}, {"cell_type": "code", "source": "# Import necessary libraries\nimport wikipedia\n\n# Set your search query (example topic: UPI)\nquery = \"Unified Payments Interface\"  # You can change this to something like \"Digital Literacy in India\" or \"Online financial fraud prevention\"\n\n# Get the Wikipedia page\ntry:\n    page = wikipedia.page(query)\n    raw_text = page.content\n    print(\"Wikipedia content successfully fetched!\")\nexcept Exception as e:\n    print(f\"An error occurred: {e}\")", "metadata": {"id": "b81912d7-34ff-49f2-b73b-2745fb0ca646"}, "outputs": [{"name": "stdout", "text": "Wikipedia content successfully fetched!\n", "output_type": "stream"}], "execution_count": 83}, {"cell_type": "code", "source": "# Clean content to exclude unnecessary parts\ndef clean_wikipedia_content(text):\n    stop_phrases = [\"See also\", \"References\", \"External links\", \"Navigation menu\"]\n    for phrase in stop_phrases:\n        if phrase in text:\n            raw_text = text.split(phrase)[0]\n    return text.strip()\n\ncleaned_content = clean_wikipedia_content(raw_text)\nprint(cleaned_content[:1500])  # show first 1500 chars", "metadata": {"id": "08e15708-fae6-4a64-9eba-da8ccd18665b"}, "outputs": [{"name": "stdout", "text": "Unified Payments Interface (UPI) is an Indian instant payment system as well as protocol developed by the National Payments Corporation of India (NPCI) in 2016. The interface facilitates inter-bank peer-to-peer (P2P) and person-to-merchant (P2M) transactions. It is used on mobile devices to instantly transfer funds between two bank accounts using only a unique UPI ID. It runs as an open source application programming interface (API) on top of the Immediate Payment Service (IMPS), and is regulated by the Reserve Bank of India (RBI). Major Indian banks started making their UPI-enabled apps available to customers in August 2016 and the system is today supported by almost all Indian banks. \nAs of 2025, the platform had over 500 million active users in India. In July 2025, 19.47 billion UPI transactions worth \u20b9 25.08 trillion (approximately 293 billion US Dollars) were processed by the UPI system, equivalent to more than 7,000 transactions on average every second. The widespread adoption and usage of UPI has positioned India as the global leader in instant payments, accounting for nearly half of all global instant payment transactions. The successful execution of an instant payment system at such an enormous scale has made it a soft power tool for India and is often cited as the most transformative and successful financial technology innovations India has developed. \n\n\n== History ==\nIn April 2009, the National Payment Corporation of India (NPCI) was formed to integrate all the pay\n", "output_type": "stream"}], "execution_count": 84}, {"cell_type": "code", "source": "import re\n\ndef clean_text(text):\n    # Remove special characters and multiple spaces\n    cleaned = re.sub(r'\\s+', ' ', text)\n    cleaned = re.sub(r'\\[[^\\]]*\\]', '', cleaned)  # remove reference numbers like [1], [2]\n    return cleaned.strip()\n\ncleaned_text = clean_text(raw_text)\nprint(cleaned_text[:1000])  # Just previewing the first 1000 characters", "metadata": {"id": "92236168-95e7-405f-a3ff-718486242eae"}, "outputs": [{"name": "stdout", "text": "Unified Payments Interface (UPI) is an Indian instant payment system as well as protocol developed by the National Payments Corporation of India (NPCI) in 2016. The interface facilitates inter-bank peer-to-peer (P2P) and person-to-merchant (P2M) transactions. It is used on mobile devices to instantly transfer funds between two bank accounts using only a unique UPI ID. It runs as an open source application programming interface (API) on top of the Immediate Payment Service (IMPS), and is regulated by the Reserve Bank of India (RBI). Major Indian banks started making their UPI-enabled apps available to customers in August 2016 and the system is today supported by almost all Indian banks. As of 2025, the platform had over 500 million active users in India. In July 2025, 19.47 billion UPI transactions worth \u20b9 25.08 trillion (approximately 293 billion US Dollars) were processed by the UPI system, equivalent to more than 7,000 transactions on average every second. The widespread adoption and\n", "output_type": "stream"}], "execution_count": 85}, {"cell_type": "code", "source": "def chunk_text(text, max_chunk_size=500):\n    words = text.split()\n    chunks = [' '.join(words[i:i + max_chunk_size]) for i in range(0, len(words), max_chunk_size)]\n    return chunks\n\nchunks = chunk_text(cleaned_text)\nprint(f\"Total Chunks Created: {len(chunks)}\")\nprint(chunks[0][:300])  # Preview first chunk", "metadata": {"id": "7b0339d8-a509-4142-891a-990290c42b86"}, "outputs": [{"name": "stdout", "text": "Total Chunks Created: 21\nUnified Payments Interface (UPI) is an Indian instant payment system as well as protocol developed by the National Payments Corporation of India (NPCI) in 2016. The interface facilitates inter-bank peer-to-peer (P2P) and person-to-merchant (P2M) transactions. It is used on mobile devices to instantl\n", "output_type": "stream"}], "execution_count": 86}, {"cell_type": "code", "source": "text_chunks = split_into_chunks(raw_text)", "metadata": {"id": "f3d5195e-1761-41c3-9ad8-1a46c8f77405"}, "outputs": [], "execution_count": 87}, {"cell_type": "code", "source": "from sklearn.feature_extraction.text import TfidfVectorizer\n\nvectorizer = TfidfVectorizer()\nX = vectorizer.fit_transform(chunks)", "metadata": {"id": "a2db9d89-95db-4433-ad76-7545917b8383"}, "outputs": [], "execution_count": 88}, {"cell_type": "code", "source": "from sklearn.metrics.pairwise import cosine_similarity\n\ndef get_response(query, vectorizer, vectors, chunks):\n    # Transform the query into vector form\n    query_vec = vectorizer.transform([query])\n    \n    # Compute cosine similarity between query and text chunks\n    similarity_scores = cosine_similarity(query_vec, vectors).flatten()\n    \n    # Get the index of the most relevant chunk\n    best_idx = similarity_scores.argmax()\n    \n    # Extract the most relevant chunk\n    best_chunk = chunks[best_idx]\n    \n    # Clean and shorten the output to first 2\u20133 sentences\n    sentences = best_chunk.strip().split('. ')\n    short_response = '. '.join(sentences[:3]).strip() + '...'\n    \n    return short_response", "metadata": {"id": "58f47c8f-5c9c-4657-9830-8154c08a4d83"}, "outputs": [], "execution_count": 91}, {"cell_type": "code", "source": "query = \"How do I use UPI safely?\"\nresponse = get_response(query, vectorizer, X, chunks)\n\nprint(\"\ud83d\udd0d Query:\", query)\nprint(\"\ud83d\udca1 Response:\", response)", "metadata": {"id": "7a088e64-cdea-46fe-b408-a206441f1073"}, "outputs": [{"name": "stdout", "text": "\ud83d\udd0d Query: How do I use UPI safely?\n\ud83d\udca1 Response: with evidence on the steps taken for compliance. In case 30% mark is breached, payment providers and banks must stop new user on-boarding. In special cases, payment providers and banks may get an exemption of 6 months for compliance...\n", "output_type": "stream"}], "execution_count": 92}, {"cell_type": "code", "source": "", "metadata": {"id": "a7b12519-9e99-4ea1-a4aa-2b650ef82b20"}, "outputs": [], "execution_count": null}]}
!pip install requests beautifulsoup4 --quiet

!pip install wikipedia

from sklearn.feature_extraction.text import TfidfVectorizer
from sklearn.metrics.pairwise import cosine_similarity

import requests
from bs4 import BeautifulSoup

# Import necessary libraries
import wikipedia

# Set your search query (example topic: UPI)
query = "Unified Payments Interface"  # You can change this to something like "Digital Literacy in India" or "Online financial fraud prevention"

# Get the Wikipedia page
try:
    page = wikipedia.page(query)
    raw_text = page.content
    print("Wikipedia content successfully fetched!")
except Exception as e:
    print(f"An error occurred: {e}")

# Clean content to exclude unnecessary parts
def clean_wikipedia_content(text):
    stop_phrases = ["See also", "References", "External links", "Navigation menu"]
    for phrase in stop_phrases:
        if phrase in text:
            raw_text = text.split(phrase)[0]
    return text.strip()

cleaned_content = clean_wikipedia_content(raw_text)
print(cleaned_content[:1500])  # show first 1500 chars

import re

def clean_text(text):
    # Remove special characters and multiple spaces
    cleaned = re.sub(r'\s+', ' ', text)
    cleaned = re.sub(r'\[[^\]]*\]', '', cleaned)  # remove reference numbers like [1], [2]
    return cleaned.strip()

cleaned_text = clean_text(raw_text)
print(cleaned_text[:1000])  # Just previewing the first 1000 characters

def chunk_text(text, max_chunk_size=500):
    words = text.split()
    chunks = [' '.join(words[i:i + max_chunk_size]) for i in range(0, len(words), max_chunk_size)]
    return chunks

chunks = chunk_text(cleaned_text)
print(f"Total Chunks Created: {len(chunks)}")
print(chunks[0][:300])  # Preview first chunk

text_chunks = split_into_chunks(raw_text)

from sklearn.feature_extraction.text import TfidfVectorizer

vectorizer = TfidfVectorizer()
X = vectorizer.fit_transform(chunks)

from sklearn.metrics.pairwise import cosine_similarity

def get_response(query, vectorizer, vectors, chunks):
    # Transform the query into vector form
    query_vec = vectorizer.transform([query])
    
    # Compute cosine similarity between query and text chunks
    similarity_scores = cosine_similarity(query_vec, vectors).flatten()
    
    # Get the index of the most relevant chunk
    best_idx = similarity_scores.argmax()
    
    # Extract the most relevant chunk
    best_chunk = chunks[best_idx]
    
    # Clean and shorten the output to first 2–3 sentences
    sentences = best_chunk.strip().split('. ')
    short_response = '. '.join(sentences[:3]).strip() + '...'
    
    return short_response

query = "How do I use UPI safely?"
response = get_response(query, vectorizer, X, chunks)

print("🔍 Query:", query)
print("💡 Response:", response)
